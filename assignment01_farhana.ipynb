{
  "nbformat": 4,
  "nbformat_minor": 0,
  "metadata": {
    "colab": {
      "provenance": [],
      "authorship_tag": "ABX9TyP0loMwGJ3e5nKsQjSN/TVu",
      "include_colab_link": true
    },
    "kernelspec": {
      "name": "python3",
      "display_name": "Python 3"
    },
    "language_info": {
      "name": "python"
    }
  },
  "cells": [
    {
      "cell_type": "markdown",
      "metadata": {
        "id": "view-in-github",
        "colab_type": "text"
      },
      "source": [
        "<a href=\"https://colab.research.google.com/github/pmfarhana25/ict_assignments/blob/main/assignment01_farhana.ipynb\" target=\"_parent\"><img src=\"https://colab.research.google.com/assets/colab-badge.svg\" alt=\"Open In Colab\"/></a>"
      ]
    },
    {
      "cell_type": "markdown",
      "source": [
        "1\n",
        "\n"
      ],
      "metadata": {
        "id": "2aAO8p1LQe-c"
      }
    },
    {
      "cell_type": "code",
      "execution_count": null,
      "metadata": {
        "colab": {
          "base_uri": "https://localhost:8080/"
        },
        "id": "XNpjfEpVVTZj",
        "outputId": "0b841c39-e925-43c4-d923-da2a554eb4f7"
      },
      "outputs": [
        {
          "output_type": "stream",
          "name": "stdout",
          "text": [
            "Enter item1 price:23\n",
            "enter item1 quantity:34\n",
            "enter item2 price:43\n",
            "enter item2 quantity:12\n",
            "total bill= 1298\n"
          ]
        }
      ],
      "source": [
        "a=int(input('Enter item1 price:'))\n",
        "b=int(input('enter item1 quantity:'))\n",
        "c=int(input('enter item2 price:'))\n",
        "d=int(input('enter item2 quantity:'))\n",
        "t=a*b+c*d\n",
        "print(\"total bill=\", t)\n"
      ]
    },
    {
      "cell_type": "markdown",
      "source": [
        "2"
      ],
      "metadata": {
        "id": "8LbRpDX6Qjti"
      }
    },
    {
      "cell_type": "code",
      "source": [
        "c=int(input('enter teap of celcius'))\n",
        "f = (c*9/5)+32\n",
        "print(f)"
      ],
      "metadata": {
        "colab": {
          "base_uri": "https://localhost:8080/"
        },
        "id": "hS_FdVySbhid",
        "outputId": "19583d7f-4350-4c14-c074-a7606bdaa293"
      },
      "execution_count": null,
      "outputs": [
        {
          "output_type": "stream",
          "name": "stdout",
          "text": [
            "enter teap of celcius30\n",
            "86.0\n"
          ]
        }
      ]
    },
    {
      "cell_type": "markdown",
      "source": [
        "3"
      ],
      "metadata": {
        "id": "vdbLii3xQoqD"
      }
    },
    {
      "cell_type": "code",
      "source": [
        "a=float(input(\"enter basic salary\"))\n",
        "n = a+(0.20*a)+(0.10*a)\n",
        "print(\"net salary:\",n)"
      ],
      "metadata": {
        "id": "uZzrQh64jE-p",
        "colab": {
          "base_uri": "https://localhost:8080/"
        },
        "outputId": "983fd3c3-69da-46d6-c1f0-2474f1a50097"
      },
      "execution_count": 1,
      "outputs": [
        {
          "output_type": "stream",
          "name": "stdout",
          "text": [
            "enter basic salary20000\n",
            "net salary: 26000.0\n"
          ]
        }
      ]
    },
    {
      "cell_type": "markdown",
      "source": [
        "4"
      ],
      "metadata": {
        "id": "o6JkE3ZsQq_i"
      }
    },
    {
      "cell_type": "code",
      "source": [
        "p = float(input(\"principle amount:\"))\n",
        "r = float(input(\"rate of intrest:\"))\n",
        "t = float(input(\"time:\"))\n",
        "si = (p*r*t)/100\n",
        "print(si)"
      ],
      "metadata": {
        "colab": {
          "base_uri": "https://localhost:8080/"
        },
        "id": "Kma_XVi77PI2",
        "outputId": "9cadde21-c258-4b9f-a469-1cf22e52b996"
      },
      "execution_count": 2,
      "outputs": [
        {
          "output_type": "stream",
          "name": "stdout",
          "text": [
            "principle amount:10000\n",
            "rate of intrest:5\n",
            "time:2\n",
            "1000.0\n"
          ]
        }
      ]
    },
    {
      "cell_type": "markdown",
      "source": [
        "5"
      ],
      "metadata": {
        "id": "k6koi2C9QuFy"
      }
    },
    {
      "cell_type": "code",
      "source": [
        "minutes = float(input(\"enter total input:\"))\n",
        "hours = minutes/60\n",
        "print(hours)"
      ],
      "metadata": {
        "colab": {
          "base_uri": "https://localhost:8080/"
        },
        "id": "tWPf_oGw8TG0",
        "outputId": "bba0fb73-2fba-4458-fa1f-a0202dea3454"
      },
      "execution_count": 3,
      "outputs": [
        {
          "output_type": "stream",
          "name": "stdout",
          "text": [
            "enter total input:130\n",
            "2.1666666666666665\n"
          ]
        }
      ]
    },
    {
      "cell_type": "markdown",
      "source": [
        "6"
      ],
      "metadata": {
        "id": "z304HpRdQv9D"
      }
    },
    {
      "cell_type": "code",
      "source": [
        "weight_kg = float(input(\"enter weight in kg:\"))\n",
        "height_m = float(input(\"enter hight in m:\"))\n",
        "bmi = weight_kg /(height_m**2)\n",
        "print(\"bmi:\",bmi)"
      ],
      "metadata": {
        "colab": {
          "base_uri": "https://localhost:8080/"
        },
        "id": "QMnEjfx580HC",
        "outputId": "74fab195-17bf-4858-a54c-36a1d75181ae"
      },
      "execution_count": 4,
      "outputs": [
        {
          "output_type": "stream",
          "name": "stdout",
          "text": [
            "enter weight in kg:60\n",
            "enter hight in m:1.65\n",
            "bmi: 22.03856749311295\n"
          ]
        }
      ]
    },
    {
      "cell_type": "markdown",
      "source": [
        "7"
      ],
      "metadata": {
        "id": "T5l2bkrhQzQS"
      }
    },
    {
      "cell_type": "code",
      "source": [
        "ogprice = int(input(\"enter the price\"))\n",
        "dis = ogprice -ogprice * 10/100\n",
        "print(dis)"
      ],
      "metadata": {
        "colab": {
          "base_uri": "https://localhost:8080/"
        },
        "id": "iwde6gx9AIA_",
        "outputId": "d52d6dca-8574-4fc2-d604-abfe3f38ec8a"
      },
      "execution_count": 5,
      "outputs": [
        {
          "output_type": "stream",
          "name": "stdout",
          "text": [
            "enter the price1200\n",
            "1080.0\n"
          ]
        }
      ]
    },
    {
      "cell_type": "markdown",
      "source": [
        "8"
      ],
      "metadata": {
        "id": "je_gCrnBQ0qy"
      }
    },
    {
      "cell_type": "code",
      "source": [
        "a = float(input(\"enter side a\"))\n",
        "b = float(input(\"enter side b\"))\n",
        "c = float(input(\"enter side c\"))\n",
        "s=(a+b+c)/2\n",
        "area=(s*(s-a)*(s-b)*(s-c))**0.5\n",
        "print(area)\n",
        "#"
      ],
      "metadata": {
        "colab": {
          "base_uri": "https://localhost:8080/"
        },
        "id": "WhvZy-awCgME",
        "outputId": "4be4fa09-9ceb-4be0-de1d-3184149cba4a"
      },
      "execution_count": 6,
      "outputs": [
        {
          "output_type": "stream",
          "name": "stdout",
          "text": [
            "enter side a5\n",
            "enter side b6\n",
            "enter side c7\n",
            "14.696938456699069\n"
          ]
        }
      ]
    },
    {
      "cell_type": "markdown",
      "source": [
        "9"
      ],
      "metadata": {
        "id": "SMLk-xUZQ2Ma"
      }
    },
    {
      "cell_type": "code",
      "source": [
        "print(\"paint cost estimater\")\n",
        "l= float(input(\"enter length of the wall:\"))\n",
        "b = float(input(\"enter breadth of  the wall:\"))\n",
        "area = l*b\n",
        "area_w = 2*(1.5 *1.2)\n",
        "paint = area - area_w\n",
        "print(paint,\"sq.m\")\n",
        "cost = paint * 25\n",
        "print(cost)"
      ],
      "metadata": {
        "colab": {
          "base_uri": "https://localhost:8080/"
        },
        "id": "VKqmTYMLFW6R",
        "outputId": "513d3778-e668-4082-9dd1-fd6607aff0f0"
      },
      "execution_count": 10,
      "outputs": [
        {
          "output_type": "stream",
          "name": "stdout",
          "text": [
            "paint cost estimater\n",
            "enter length of the wall:12\n",
            "enter breadth of  the wall:8\n",
            "92.4 sq.m\n",
            "2310.0\n"
          ]
        }
      ]
    },
    {
      "cell_type": "markdown",
      "source": [
        "10"
      ],
      "metadata": {
        "id": "E1iY4kP-Q3zC"
      }
    },
    {
      "cell_type": "code",
      "source": [
        "uc = int(input(\"enter number of units consumed :\"))\n",
        "eb = float((uc*5.2)+100)\n",
        "print('Electricity Bill=',eb)"
      ],
      "metadata": {
        "colab": {
          "base_uri": "https://localhost:8080/"
        },
        "id": "GUGH8l5SNX_w",
        "outputId": "f68b4037-8b07-4faf-cd02-79ea4a9cec99"
      },
      "execution_count": 11,
      "outputs": [
        {
          "output_type": "stream",
          "name": "stdout",
          "text": [
            "enter number of units consumed :250\n",
            "Electricity Bill= 1400.0\n"
          ]
        }
      ]
    },
    {
      "cell_type": "code",
      "source": [],
      "metadata": {
        "id": "R_VW0fSeP3-F"
      },
      "execution_count": null,
      "outputs": []
    }
  ]
}